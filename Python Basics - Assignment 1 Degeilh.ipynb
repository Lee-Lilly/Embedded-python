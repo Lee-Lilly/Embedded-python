{
 "cells": [
  {
   "cell_type": "markdown",
   "metadata": {},
   "source": [
    "---\n",
    "# Python Basics - Assignment 1 TODO"
   ]
  },
  {
   "cell_type": "markdown",
   "metadata": {},
   "source": [
    "**Task 1:** Create a string (name), an integer (num) and a floating point number (fnum). Assign your name to name, 25 to num and 56.78 to fnum. Print the output for all 3 variables.\n",
    "```\n",
    "###name - use your own name\n",
    "#num\n",
    "#fnum\n",
    "#print name\n",
    "#print num\n",
    "#print fnum\n",
    "##continue to code solution cell below.\n",
    "```"
   ]
  },
  {
   "cell_type": "code",
   "execution_count": 2,
   "metadata": {},
   "outputs": [
    {
     "name": "stdout",
     "output_type": "stream",
     "text": [
      "Lee 25 56.78\n"
     ]
    }
   ],
   "source": [
    "name = \"Lee\"\n",
    "num = 25\n",
    "fnum = 56.78\n",
    "print (name, num, fnum)"
   ]
  },
  {
   "cell_type": "markdown",
   "metadata": {},
   "source": [
    "**Task 2:** Use the capitalize() method to convert the first character of a string to uppercase letter.\n",
    "Continue to code solution cell below.\n",
    "```\n",
    "mystring = \"this is getting interesting.\"\n",
    "mycapital_string = #use capitalize method\n",
    "print the capitalized string\n",
    "```"
   ]
  },
  {
   "cell_type": "code",
   "execution_count": 6,
   "metadata": {},
   "outputs": [
    {
     "name": "stdout",
     "output_type": "stream",
     "text": [
      "This is getting interesting.\n"
     ]
    }
   ],
   "source": [
    "mystring = \"this is getting interesting.\"\n",
    "mycapital_string = mystring.capitalize()\n",
    "print (mycapital_string)"
   ]
  },
  {
   "cell_type": "markdown",
   "metadata": {},
   "source": [
    "**Task 3:** The find() method returns the index of first occurence of the substring if it is found and if it does not find it returns -1. Use find() method to complete the code below.\n",
    "```\n",
    "text = \"Python is an easy to learn language\"\n",
    "result = #find learn\n",
    "print (result)\n",
    "```"
   ]
  },
  {
   "cell_type": "code",
   "execution_count": 8,
   "metadata": {},
   "outputs": [
    {
     "name": "stdout",
     "output_type": "stream",
     "text": [
      "21\n"
     ]
    }
   ],
   "source": [
    "text = \"Python is an easy to learn language\"\n",
    "result = text.find('learn')\n",
    "print (result)"
   ]
  },
  {
   "cell_type": "markdown",
   "metadata": {},
   "source": [
    "**Task 4:** It is possible to assign the same value to multiple variables at once in Python. Complete the code below.\n",
    "```\n",
    "# create 3 variables a,b & c \n",
    "# assign 1 as value to all variables in the same statement\n",
    "# incorrect answer if it is \n",
    "a=1 b=1 c=1\n",
    "```\n",
    "```\n",
    "#print a\n",
    "#print b\n",
    "#print c\n",
    "```\n"
   ]
  },
  {
   "cell_type": "code",
   "execution_count": 11,
   "metadata": {},
   "outputs": [
    {
     "name": "stdout",
     "output_type": "stream",
     "text": [
      "1\n",
      "1\n",
      "1\n"
     ]
    }
   ],
   "source": [
    "a = b = c = 1\n",
    "print(a)\n",
    "print(b)\n",
    "print(c)"
   ]
  },
  {
   "cell_type": "markdown",
   "metadata": {},
   "source": [
    "**Task 5:** Use for and if to find and print all names from list that are at least 5 characters long.\n",
    "```\n",
    "names = [\"Alice\", \"Bob\", \"Charlie\", \"Dave\", \"Emily\"]\n",
    "for # Loop through the list of names\n",
    "    # Print all names that are 5 characters or longer\n",
    "    # Use len method to find length of the string\n",
    "    ```"
   ]
  },
  {
   "cell_type": "code",
   "execution_count": 14,
   "metadata": {},
   "outputs": [
    {
     "name": "stdout",
     "output_type": "stream",
     "text": [
      "Alice\n",
      "Charlie\n",
      "Emily\n"
     ]
    }
   ],
   "source": [
    "names = [\"Alice\", \"Bob\", \"Charlie\", \"Dave\", \"Emily\"]\n",
    "for nm in names:\n",
    "    if len(nm) >= 5:\n",
    "        print(nm)"
   ]
  },
  {
   "cell_type": "markdown",
   "metadata": {},
   "source": [
    "**Task 6:** Create a list named mylist and include 5 different data items.\n",
    "```\n",
    "mylist =   # it should contain 5 different data items, e.g. mylist = ['Apple', 2, 3.1415, 'd', 1024 ]\n",
    "print() # print the entire list\n",
    "print() # print only the second element, note that the first element index is 0\n",
    "#use append to add one more item to your list \n",
    "print() #print the entire list\n",
    "```"
   ]
  },
  {
   "cell_type": "code",
   "execution_count": 18,
   "metadata": {},
   "outputs": [
    {
     "name": "stdout",
     "output_type": "stream",
     "text": [
      "['Apple', 2, 3.1415, 'd', 1024]\n",
      "2\n",
      "['Apple', 2, 3.1415, 'd', 1024, 'new friend']\n"
     ]
    }
   ],
   "source": [
    "mylist = ['Apple', 2, 3.1415, 'd', 1024 ]\n",
    "print(mylist)\n",
    "print(mylist[1])\n",
    "mylist.append('new friend')\n",
    "print(mylist)"
   ]
  },
  {
   "cell_type": "markdown",
   "metadata": {},
   "source": [
    "**Task 7:** Tuple\n",
    "```\n",
    "courses = (\"Introduction to Basics for Embedded Python\", Python Basics for IoT, \"Python Project\")\n",
    "print() #use len method to print the number of items(courses) in the tuple courses.\n",
    "print() #print all items in the tuple courses\n",
    "print() #print the third item in the tuple\n",
    "```"
   ]
  },
  {
   "cell_type": "code",
   "execution_count": 23,
   "metadata": {},
   "outputs": [
    {
     "name": "stdout",
     "output_type": "stream",
     "text": [
      "3\n",
      "('Introduction to Basics for Embedded Python', 'Python Basics for IoT', 'Python Project')\n",
      "Python Project\n"
     ]
    }
   ],
   "source": [
    "courses = (\"Introduction to Basics for Embedded Python\", \"Python Basics for IoT\", \"Python Project\")\n",
    "print(len(courses))\n",
    "print(courses)\n",
    "print(courses[2])"
   ]
  },
  {
   "cell_type": "markdown",
   "metadata": {},
   "source": [
    "**Task 8:** Dictionary\n",
    "```\n",
    "#create a dictionary named test with the keys 'course', 'time' and 'ects' and set values as 'Python Basics', 'Autumn', 5\n",
    "test = {\n",
    "    \n",
    "}\n",
    "print() #use get method to print the value of the course\n",
    "test[] =  #change the course value to Python Basics for IoT\n",
    "\n",
    "test[] = #add the key/value pair as year:2020 to the test dictionary\n",
    "print() #print the entire dictionary\n",
    "#use pop method to remove time form the dictionary\n",
    "print() #print the dictionary\n",
    "```"
   ]
  },
  {
   "cell_type": "code",
   "execution_count": 39,
   "metadata": {},
   "outputs": [
    {
     "name": "stdout",
     "output_type": "stream",
     "text": [
      "dict_values(['Python Basics', 'Autumn', 5])\n",
      "Python Basics\n",
      "{'course': 'Python Basic for IoT', 'time': 'Autumn', 'ect': 5}\n",
      "{'course': 'Python Basic for IoT', 'time': 'Autumn', 'ect': 5, 'year': 2020}\n",
      "{'course': 'Python Basic for IoT', 'ect': 5, 'year': 2020}\n"
     ]
    }
   ],
   "source": [
    "test = {'course': 'Python Basics', 'time': 'Autumn', 'ect': 5}\n",
    "print(test.values())\n",
    "print(test.get('course'))\n",
    "test['course'] = 'Python Basic for IoT'\n",
    "print(test)\n",
    "test['year'] =2020\n",
    "print(test)\n",
    "test.pop('time')\n",
    "print(test)"
   ]
  },
  {
   "cell_type": "markdown",
   "metadata": {},
   "source": [
    "**Task 9:** Create Integer, String and Floating point number\n",
    "\n",
    "The target of this exercise is to create a string, an integer, and a floating point number. The string should be named mystring and should contain the word \"hello\". The floating point number should be named myfloat and should contain the number 10.0, and the integer should be named myint and should contain the number 20.\n",
    "Test your variables using print so that program prints variable only if it contains specifig value.Ǹote that you have to use indentation between if-clauses.\n",
    "Python uses indentation for blocks, instead of curly braces. Both tabs and spaces are supported, but the standard indentation requires standard Python code to use four spaces. For example:\n",
    "```\n",
    "x = 1\n",
    "if x == 1:\n",
    "    # indented four spaces\n",
    "    print(\"x is 1.\")\n",
    "```\n",
    "\n",
    "Test code like that way:\n",
    "```\n",
    "if mystring == \"hello\":\n",
    "    print(\"String: %s\" % mystring)\n",
    "```"
   ]
  },
  {
   "cell_type": "code",
   "execution_count": 64,
   "metadata": {},
   "outputs": [
    {
     "name": "stdout",
     "output_type": "stream",
     "text": [
      "String: hello world!\n",
      "float:  110.0\n",
      "int:  220\n"
     ]
    }
   ],
   "source": [
    "mystring = \"hello world!\"\n",
    "myfloat = 110.0\n",
    "myint = 220\n",
    "if 'hello' in mystring:\n",
    "    print(\"String:\", mystring)\n",
    "if '10.0' in str(myfloat):\n",
    "    print(\"float: \", myfloat)\n",
    "if str(myint).find('20'):\n",
    "    print(\"int: \", myint)"
   ]
  },
  {
   "cell_type": "markdown",
   "metadata": {},
   "source": [
    "#### Example solutions task 9\n",
    "\n",
    "<details><summary>CLICK ME</summary>\n",
    "<p>\n",
    "\n",
    "```\n",
    "mystring = \"hello\"\n",
    "myfloat = 10.0\n",
    "myint = 20\n",
    "\n",
    "# testing code\n",
    "if mystring == \"hello\":\n",
    "    print(\"String: %s\" % mystring)\n",
    "if isinstance(myfloat, float) and myfloat == 10.0:\n",
    "    print(\"Float: %f\" % myfloat)\n",
    "if isinstance(myint, int) and myint == 20:\n",
    "    print(\"Integer: %d\" % myint)\n",
    "\n",
    "```\n",
    "</p>\n",
    "</details>"
   ]
  },
  {
   "cell_type": "markdown",
   "metadata": {},
   "source": [
    "**Task 10:** Convert Celsius to Fahrenheit\n",
    "\n",
    "The target of this exercise is to code Python Program which take the temperature in Celsius and convert it to Fahrenheit. \n",
    "\n",
    "**Problem Solution**\n",
    "\n",
    "1. Take the value of temperature in Celsius and store it in a variable. Ask user temperature value and store it in int or float type variable.\n",
    "2. Convert it to Fahrenheit. Using the formula of: f=(c*1.8)+32, convert Celsius to Fahrenheit.\n",
    "3. Print the final result.\n",
    "4. Exit."
   ]
  },
  {
   "cell_type": "code",
   "execution_count": 27,
   "metadata": {},
   "outputs": [
    {
     "name": "stdin",
     "output_type": "stream",
     "text": [
      "Enter the temperature in celcius:  25\n"
     ]
    },
    {
     "name": "stdout",
     "output_type": "stream",
     "text": [
      "Temperature in Fahrenheit is: 77.0\n"
     ]
    }
   ],
   "source": [
    "temp_cel = float(input(\"Enter the temperature in celcius: \"))\n",
    "temp_fah = (temp_cel * 1.8) + 32\n",
    "print (\"Temperature in Fahrenheit is:\", temp_fah)"
   ]
  }
 ],
 "metadata": {
  "kernelspec": {
   "display_name": "Python 3",
   "language": "python",
   "name": "python3"
  },
  "language_info": {
   "codemirror_mode": {
    "name": "ipython",
    "version": 3
   },
   "file_extension": ".py",
   "mimetype": "text/x-python",
   "name": "python",
   "nbconvert_exporter": "python",
   "pygments_lexer": "ipython3",
   "version": "3.8.6"
  }
 },
 "nbformat": 4,
 "nbformat_minor": 4
}
